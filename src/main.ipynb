{
 "cells": [
  {
   "cell_type": "code",
   "execution_count": 72,
   "id": "0dae396d-ae91-4330-acb2-b6292c586f9c",
   "metadata": {},
   "outputs": [],
   "source": [
    "import re\n",
    "from Bio import SeqIO\n",
    "from itertools import accumulate"
   ]
  },
  {
   "cell_type": "code",
   "execution_count": 73,
   "id": "51cdf5af-da17-4f39-99c7-2907cce6b45a",
   "metadata": {},
   "outputs": [],
   "source": [
    "contig = tuple(SeqIO.parse('out_contig.fa', 'fasta'))"
   ]
  },
  {
   "cell_type": "code",
   "execution_count": 94,
   "id": "f0a5e2fd-2b87-4777-ae4d-b87391aeb575",
   "metadata": {},
   "outputs": [
    {
     "name": "stdout",
     "output_type": "stream",
     "text": [
      "Всего контиков: 614\n"
     ]
    }
   ],
   "source": [
    "print('Всего контиков:', len(data))"
   ]
  },
  {
   "cell_type": "code",
   "execution_count": 95,
   "id": "9124cdf1-1e76-4f91-84c0-61ce31076857",
   "metadata": {},
   "outputs": [
    {
     "name": "stdout",
     "output_type": "stream",
     "text": [
      "Общая длинна: 3925660\n"
     ]
    }
   ],
   "source": [
    "print('Общая длинна:', sum([len(x.seq) for x in contig]))"
   ]
  },
  {
   "cell_type": "code",
   "execution_count": 98,
   "id": "3796910b-1814-4d55-b68d-30ec7296b2f9",
   "metadata": {},
   "outputs": [
    {
     "name": "stdout",
     "output_type": "stream",
     "text": [
      "Самый длинный контиг: 179307\n"
     ]
    }
   ],
   "source": [
    "print('Самый длинный контиг:', max([len(x.seq) for x in contig]))"
   ]
  },
  {
   "cell_type": "code",
   "execution_count": 101,
   "id": "bd8f9136-7eba-4c51-8858-4a7dd30acbd8",
   "metadata": {},
   "outputs": [
    {
     "name": "stdout",
     "output_type": "stream",
     "text": [
      "N50 = 50620\n"
     ]
    }
   ],
   "source": [
    "s = 0\n",
    "N50 = 0\n",
    "for l in sorted([len(x.seq) for x in contig]):\n",
    "    s += l\n",
    "    if s >= sum([len(x.seq) for x in contig]) / 2:\n",
    "        N50 = l\n",
    "        break\n",
    "print('N50 =', N50)"
   ]
  },
  {
   "cell_type": "code",
   "execution_count": 102,
   "id": "7302fc6a-ea20-44f7-af17-af4c7ecd9e7e",
   "metadata": {},
   "outputs": [
    {
     "name": "stdout",
     "output_type": "stream",
     "text": [
      "Всего скафолдов: 71\n"
     ]
    }
   ],
   "source": [
    "scaffold = tuple(SeqIO.parse('out_scaffold.fa', 'fasta'))\n",
    "print('Всего скафолдов:', len(scaffold))"
   ]
  },
  {
   "cell_type": "code",
   "execution_count": 103,
   "id": "b94c8d0b-6fbc-48e1-9e62-d30e8385b207",
   "metadata": {},
   "outputs": [
    {
     "name": "stdout",
     "output_type": "stream",
     "text": [
      "Общая длинна скафолдов: 3873415\n"
     ]
    }
   ],
   "source": [
    "print('Общая длинна скафолдов:', sum([len(x) for x in scaffold]))"
   ]
  },
  {
   "cell_type": "code",
   "execution_count": 104,
   "id": "53fba45c-5135-44d9-a7c0-618974452398",
   "metadata": {},
   "outputs": [
    {
     "name": "stdout",
     "output_type": "stream",
     "text": [
      "Самый длинный скафолд: 3831375\n"
     ]
    }
   ],
   "source": [
    "print('Самый длинный скафолд:', max([len(x) for x in scaffold]))"
   ]
  },
  {
   "cell_type": "code",
   "execution_count": 105,
   "id": "14823791-c594-48d6-a296-6e738270d080",
   "metadata": {},
   "outputs": [
    {
     "name": "stdout",
     "output_type": "stream",
     "text": [
      "N50= 3831375\n"
     ]
    }
   ],
   "source": [
    "s = 0\n",
    "N50 = 0\n",
    "for l in sorted([len(x.seq) for x in scaffold]):\n",
    "    s += l\n",
    "    if s >= sum([len(x.seq) for x in scaffold]) / 2:\n",
    "        N50 = l\n",
    "        break\n",
    "\n",
    "print('N50=',N50)"
   ]
  },
  {
   "cell_type": "code",
   "execution_count": 108,
   "id": "4bd54e84-156d-4626-9fb0-4350a7b9564b",
   "metadata": {},
   "outputs": [
    {
     "name": "stdout",
     "output_type": "stream",
     "text": [
      "Количество гэпов: 59\n",
      "Общая длина гэпов: 5475\n"
     ]
    }
   ],
   "source": [
    "scaf = max(scaffold, key=len)\n",
    "\n",
    "print('Количество гэпов:', re.sub(r'N{2,}', 'N', str(scaf.seq)).count('N'))\n",
    "print('Общая длина гэпов:', str(scaf.seq).count('N'))"
   ]
  },
  {
   "cell_type": "markdown",
   "id": "8a3a6360-b212-417b-ad56-40cc39343448",
   "metadata": {},
   "source": [
    "После подрезания"
   ]
  },
  {
   "cell_type": "code",
   "execution_count": 110,
   "id": "100dbb83-3c36-4674-b08f-442984dcb9a7",
   "metadata": {},
   "outputs": [
    {
     "name": "stdout",
     "output_type": "stream",
     "text": [
      "Количество гэпов: 7\n",
      "Общая длина гэпов: 1246\n"
     ]
    }
   ],
   "source": [
    "gap = tuple(SeqIO.parse('out_gapClosed.fa', 'fasta'))\n",
    "scaf = max(gap, key=len)\n",
    "\n",
    "print('Количество гэпов:', re.sub(r'N{2,}', 'N', str(scaf.seq)).count('N'))\n",
    "print('Общая длина гэпов:', str(scaf.seq).count('N'))"
   ]
  }
 ],
 "metadata": {
  "kernelspec": {
   "display_name": "Python 3",
   "language": "python",
   "name": "python3"
  },
  "language_info": {
   "codemirror_mode": {
    "name": "ipython",
    "version": 3
   },
   "file_extension": ".py",
   "mimetype": "text/x-python",
   "name": "python",
   "nbconvert_exporter": "python",
   "pygments_lexer": "ipython3",
   "version": "3.8.8"
  }
 },
 "nbformat": 4,
 "nbformat_minor": 5
}
